{
 "cells": [
  {
   "cell_type": "code",
   "execution_count": 4,
   "metadata": {},
   "outputs": [
    {
     "ename": "FileNotFoundError",
     "evalue": "[Errno 2] No such file or directory: '/Users/noahvelick/.config/gspread/credentials.json'",
     "output_type": "error",
     "traceback": [
      "\u001b[0;31m---------------------------------------------------------------------------\u001b[0m",
      "\u001b[0;31mFileNotFoundError\u001b[0m                         Traceback (most recent call last)",
      "\u001b[1;32m/Users/noahvelick/personal_code/1536Osceola/noah_python/testing.ipynb Cell 1\u001b[0m line \u001b[0;36m4\n\u001b[1;32m      <a href='vscode-notebook-cell:/Users/noahvelick/personal_code/1536Osceola/noah_python/testing.ipynb#W0sZmlsZQ%3D%3D?line=0'>1</a>\u001b[0m \u001b[39mimport\u001b[39;00m \u001b[39mpandas\u001b[39;00m \u001b[39mas\u001b[39;00m \u001b[39mpd\u001b[39;00m\n\u001b[1;32m      <a href='vscode-notebook-cell:/Users/noahvelick/personal_code/1536Osceola/noah_python/testing.ipynb#W0sZmlsZQ%3D%3D?line=1'>2</a>\u001b[0m \u001b[39mimport\u001b[39;00m \u001b[39mgspread\u001b[39;00m\n\u001b[0;32m----> <a href='vscode-notebook-cell:/Users/noahvelick/personal_code/1536Osceola/noah_python/testing.ipynb#W0sZmlsZQ%3D%3D?line=3'>4</a>\u001b[0m gc \u001b[39m=\u001b[39m gspread\u001b[39m.\u001b[39;49moauth()\n",
      "File \u001b[0;32m~/anaconda3/lib/python3.10/site-packages/gspread/auth.py:101\u001b[0m, in \u001b[0;36moauth\u001b[0;34m(scopes, flow)\u001b[0m\n\u001b[1;32m     98\u001b[0m creds \u001b[39m=\u001b[39m load_credentials()\n\u001b[1;32m    100\u001b[0m \u001b[39mif\u001b[39;00m \u001b[39mnot\u001b[39;00m creds:\n\u001b[0;32m--> 101\u001b[0m     creds \u001b[39m=\u001b[39m flow(scopes\u001b[39m=\u001b[39;49mscopes)\n\u001b[1;32m    102\u001b[0m     store_credentials(creds)\n\u001b[1;32m    104\u001b[0m client \u001b[39m=\u001b[39m Client(auth\u001b[39m=\u001b[39mcreds)\n",
      "File \u001b[0;32m~/anaconda3/lib/python3.10/site-packages/gspread/auth.py:67\u001b[0m, in \u001b[0;36mlocal_server_flow\u001b[0;34m(scopes, port)\u001b[0m\n\u001b[1;32m     66\u001b[0m \u001b[39mdef\u001b[39;00m \u001b[39mlocal_server_flow\u001b[39m(scopes, port\u001b[39m=\u001b[39m\u001b[39m0\u001b[39m):\n\u001b[0;32m---> 67\u001b[0m     flow \u001b[39m=\u001b[39m _create_installed_app_flow(scopes)\n\u001b[1;32m     68\u001b[0m     \u001b[39mreturn\u001b[39;00m flow\u001b[39m.\u001b[39mrun_local_server(port\u001b[39m=\u001b[39mport)\n",
      "File \u001b[0;32m~/anaconda3/lib/python3.10/site-packages/gspread/auth.py:61\u001b[0m, in \u001b[0;36m_create_installed_app_flow\u001b[0;34m(scopes)\u001b[0m\n\u001b[1;32m     60\u001b[0m \u001b[39mdef\u001b[39;00m \u001b[39m_create_installed_app_flow\u001b[39m(scopes):\n\u001b[0;32m---> 61\u001b[0m     \u001b[39mreturn\u001b[39;00m InstalledAppFlow\u001b[39m.\u001b[39;49mfrom_client_secrets_file(\n\u001b[1;32m     62\u001b[0m         DEFAULT_CREDENTIALS_FILENAME, scopes\n\u001b[1;32m     63\u001b[0m     )\n",
      "File \u001b[0;32m~/anaconda3/lib/python3.10/site-packages/google_auth_oauthlib/flow.py:198\u001b[0m, in \u001b[0;36mFlow.from_client_secrets_file\u001b[0;34m(cls, client_secrets_file, scopes, **kwargs)\u001b[0m\n\u001b[1;32m    183\u001b[0m \u001b[39m@classmethod\u001b[39m\n\u001b[1;32m    184\u001b[0m \u001b[39mdef\u001b[39;00m \u001b[39mfrom_client_secrets_file\u001b[39m(\u001b[39mcls\u001b[39m, client_secrets_file, scopes, \u001b[39m*\u001b[39m\u001b[39m*\u001b[39mkwargs):\n\u001b[1;32m    185\u001b[0m     \u001b[39m\"\"\"Creates a :class:`Flow` instance from a Google client secrets file.\u001b[39;00m\n\u001b[1;32m    186\u001b[0m \n\u001b[1;32m    187\u001b[0m \u001b[39m    Args:\u001b[39;00m\n\u001b[0;32m   (...)\u001b[0m\n\u001b[1;32m    196\u001b[0m \u001b[39m        Flow: The constructed Flow instance.\u001b[39;00m\n\u001b[1;32m    197\u001b[0m \u001b[39m    \"\"\"\u001b[39;00m\n\u001b[0;32m--> 198\u001b[0m     \u001b[39mwith\u001b[39;00m \u001b[39mopen\u001b[39;49m(client_secrets_file, \u001b[39m\"\u001b[39;49m\u001b[39mr\u001b[39;49m\u001b[39m\"\u001b[39;49m) \u001b[39mas\u001b[39;00m json_file:\n\u001b[1;32m    199\u001b[0m         client_config \u001b[39m=\u001b[39m json\u001b[39m.\u001b[39mload(json_file)\n\u001b[1;32m    201\u001b[0m     \u001b[39mreturn\u001b[39;00m \u001b[39mcls\u001b[39m\u001b[39m.\u001b[39mfrom_client_config(client_config, scopes\u001b[39m=\u001b[39mscopes, \u001b[39m*\u001b[39m\u001b[39m*\u001b[39mkwargs)\n",
      "\u001b[0;31mFileNotFoundError\u001b[0m: [Errno 2] No such file or directory: '/Users/noahvelick/.config/gspread/credentials.json'"
     ]
    }
   ],
   "source": [
    "import pandas as pd\n",
    "import gspread\n",
    "\n",
    "gc = gspread.oauth(\n",
    "    credentials_filename='~/credentials.json'\n",
    ")"
   ]
  }
 ],
 "metadata": {
  "kernelspec": {
   "display_name": "Python 3",
   "language": "python",
   "name": "python3"
  },
  "language_info": {
   "codemirror_mode": {
    "name": "ipython",
    "version": 3
   },
   "file_extension": ".py",
   "mimetype": "text/x-python",
   "name": "python",
   "nbconvert_exporter": "python",
   "pygments_lexer": "ipython3",
   "version": "3.10.9"
  },
  "orig_nbformat": 4
 },
 "nbformat": 4,
 "nbformat_minor": 2
}
